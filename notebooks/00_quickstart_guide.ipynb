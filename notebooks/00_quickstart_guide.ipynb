{
 "cells": [
  {
   "cell_type": "markdown",
   "metadata": {},
   "source": [
    "# Next Step - Career Guidance System: Quickstart Guide\n",
    "\n",
    "This notebook demonstrates how to use the career guidance system with example scenarios."
   ]
  },
  {
   "cell_type": "code",
   "execution_count": null,
   "metadata": {},
   "source": [
    "import pandas as pd\n",
    "import numpy as np\n",
    "import matplotlib.pyplot as plt\n",
    "import seaborn as sns\n",
    "from pathlib import Path\n",
    "\n",
    "# Set up plotting style\n",
    "plt.style.use('seaborn')\n",
    "sns.set_palette('husl')"
   ]
  },
  {
   "cell_type": "markdown",
   "metadata": {},
   "source": [
    "## 1. Generate Sample Data\n",
    "\n",
    "First, let's generate some sample student data to work with."
   ]
  },
  {
   "cell_type": "code",
   "execution_count": null,
   "metadata": {},
   "source": [
    "# Import our data generator\n",
    "from scripts.generate_sample_data import generate_sample_data\n",
    "\n",
    "# Generate sample data\n",
    "df = generate_sample_data()\n",
    "\n",
    "# Display first few records\n",
    "print(\"Sample student records:\")\n",
    "df.head()"
   ]
  },
  {
   "cell_type": "markdown",
   "metadata": {},
   "source": [
    "## 2. Example Scenarios\n",
    "\n",
    "Let's look at some typical student profiles:"
   ]
  },
  {
   "cell_type": "code",
   "execution_count": null,
   "metadata": {},
   "source": [
    "# Example student profiles\n",
    "example_students = pd.DataFrame([\n",
    "    {\n",
    "        'ol_mathematics': 95,\n",
    "        'ol_science': 92,\n",
    "        'ol_english': 88,\n",
    "        'ol_history': 85,\n",
    "        'al_stream': 'Science',\n",
    "        'interests': 'Technology, Healthcare',\n",
    "        'skills': 'Programming, Analysis'\n",
    "    },\n",
    "    {\n",
    "        'ol_mathematics': 78,\n",
    "        'ol_science': 75,\n",
    "        'ol_english': 92,\n",
    "        'ol_history': 90,\n",
    "        'al_stream': 'Commerce',\n",
    "        'interests': 'Business, Leadership',\n",
    "        'skills': 'Communication, Analysis'\n",
    "    },\n",
    "    {\n",
    "        'ol_mathematics': 82,\n",
    "        'ol_science': 85,\n",
    "        'ol_english': 95,\n",
    "        'ol_history': 88,\n",
    "        'al_stream': 'Arts',\n",
    "        'interests': 'Teaching, Arts',\n",
    "        'skills': 'Communication, Creativity'\n",
    "    }\n",
    "])\n",
    "\n",
    "print(\"Example student profiles:\")\n",
    "example_students"
   ]
  },
  {
   "cell_type": "markdown",
   "metadata": {},
   "source": [
    "## 3. Data Analysis\n",
    "\n",
    "Let's analyze the distribution of grades and career paths in our dataset."
   ]
  },
  {
   "cell_type": "code",
   "execution_count": null,
   "metadata": {},
   "source": [
    "# Plot grade distributions\n",
    "plt.figure(figsize=(12, 6))\n",
    "for subject in ['mathematics', 'science', 'english', 'history']:\n",
    "    sns.kdeplot(data=df[f'ol_{subject}'], label=subject.title())\n",
    "plt.title('Distribution of OL Grades')\n",
    "plt.xlabel('Score')\n",
    "plt.ylabel('Density')\n",
    "plt.legend()\n",
    "plt.show()\n",
    "\n",
    "# Plot career path distribution\n",
    "plt.figure(figsize=(10, 6))\n",
    "df['career_path'].value_counts().plot(kind='bar')\n",
    "plt.title('Distribution of Career Paths')\n",
    "plt.xlabel('Career')\n",
    "plt.ylabel('Count')\n",
    "plt.xticks(rotation=45)\n",
    "plt.tight_layout()\n",
    "plt.show()"
   ]
  },
  {
   "cell_type": "markdown",
   "metadata": {},
   "source": [
    "## 4. Model Training and Evaluation\n",
    "\n",
    "Now let's train and evaluate our model."
   ]
  },
  {
   "cell_type": "code",
   "execution_count": null,
   "metadata": {},
   "source": [
    "from src.config.config import Config\n",
    "from src.data.preprocessing import DataPreprocessor\n",
    "from src.models.gradient_boosting_model import GradientBoostingModel\n",
    "from sklearn.model_selection import train_test_split\n",
    "\n",
    "# Load configuration\n",
    "config = Config()\n",
    "\n",
    "# Prepare data\n",
    "preprocessor = DataPreprocessor(config)\n",
    "X = preprocessor.preprocess_features(df)\n",
    "y = pd.get_dummies(df['career_path']).values\n",
    "\n",
    "# Split data\n",
    "X_train, X_test, y_train, y_test = train_test_split(\n",
    "    X, y, test_size=0.2, random_state=42\n",
    ")\n",
    "\n",
    "# Train model\n",
    "model = GradientBoostingModel(config.model_config)\n",
    "model.train(X_train, y_train)\n",
    "\n",
    "# Evaluate\n",
    "metrics = model.evaluate(X_test, y_test)\n",
    "print(\"\\nModel Performance Metrics:\")\n",
    "for metric, value in metrics.items():\n",
    "    print(f\"{metric}: {value:.4f}\")"
   ]
  },
  {
   "cell_type": "markdown",
   "metadata": {},
   "source": [
    "## 5. Making Predictions\n",
    "\n",
    "Let's make predictions for our example students."
   ]
  },
  {
   "cell_type": "code",
   "execution_count": null,
   "metadata": {},
   "source": [
    "# Preprocess example students\n",
    "X_examples = preprocessor.preprocess_features(example_students)\n",
    "\n",
    "# Make predictions\n",
    "predictions = model.predict(X_examples)\n",
    "probabilities = model.predict_proba(X_examples)\n",
    "\n",
    "# Display results\n",
    "print(\"Career Predictions:\")\n",
    "for i, (pred, prob) in enumerate(zip(predictions, probabilities[0])):\n",
    "    print(f\"\\nStudent {i+1}:\")\n",
    "    print(f\"Predicted Career: {pred}\")\n",
    "    print(f\"Confidence: {prob.max():.2%}\")"
   ]
  },
  {
   "cell_type": "markdown",
   "metadata": {},
   "source": [
    "## 6. Feature Importance\n",
    "\n",
    "Let's see which factors are most important for career predictions."
   ]
  },
  {
   "cell_type": "code",
   "execution_count": null,
   "metadata": {},
   "source": [
    "# Get feature importance\n",
    "importance = model.get_feature_importance()\n",
    "\n",
    "# Plot feature importance\n",
    "plt.figure(figsize=(12, 6))\n",
    "importance_df = pd.DataFrame(importance['weight'].items(), \n",
    "                           columns=['Feature', 'Importance'])\n",
    "importance_df = importance_df.sort_values('Importance', ascending=False).head(10)\n",
    "\n",
    "sns.barplot(data=importance_df, x='Importance', y='Feature')\n",
    "plt.title('Top 10 Most Important Features')\n",
    "plt.tight_layout()\n",
    "plt.show()"
   ]
  }
 ],
 "metadata": {
  "kernelspec": {
   "display_name": "Python 3",
   "language": "python",
   "name": "python3"
  },
  "language_info": {
   "codemirror_mode": {
    "name": "ipython",
    "version": 3
   },
   "file_extension": ".py",
   "mimetype": "text/x-python",
   "name": "python",
   "nbconvert_exporter": "python",
   "pygments_lexer": "ipython3",
   "version": "3.8.0"
  }
 },
 "nbformat": 4,
 "nbformat_minor": 4
}
